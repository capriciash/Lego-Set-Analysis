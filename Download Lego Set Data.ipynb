{
 "cells": [
  {
   "cell_type": "code",
   "execution_count": 1,
   "id": "conscious-lodge",
   "metadata": {},
   "outputs": [],
   "source": [
    "import requests\n",
    "import os\n",
    "import pandas as pd\n",
    "from dotenv import load_dotenv\n",
    "import time"
   ]
  },
  {
   "cell_type": "code",
   "execution_count": 2,
   "id": "social-feature",
   "metadata": {},
   "outputs": [],
   "source": [
    "# Get API key\n",
    "load_dotenv()\n",
    "\n",
    "lego_key = os.getenv(\"LEGO_API_KEY\")"
   ]
  },
  {
   "cell_type": "code",
   "execution_count": 3,
   "id": "318ad791",
   "metadata": {},
   "outputs": [],
   "source": [
    "# Define function to get data from any of the lego apis\n",
    "def get_lego_data(endpoint, api_key, **kwargs):\n",
    "    \n",
    "    # Initialize variable to store paginated results\n",
    "    data_list = []\n",
    "    \n",
    "    # Form request URL\n",
    "    params = ''\n",
    "    if len(kwargs) > 0:\n",
    "        for key, value in kwargs.items():\n",
    "            params += (\"&\" + str(key) + \"=\" + str(value))\n",
    "    next_page = endpoint + \"?key=\" + api_key + params\n",
    "    \n",
    "    # Make requests\n",
    "    while next_page is not None:\n",
    "        response = requests.get(next_page)\n",
    "        \n",
    "        # Handle the case when requests are throttled\n",
    "        if response == 429:\n",
    "            print(\"Response 429\")\n",
    "            time.sleep(2)\n",
    "            continue\n",
    "            \n",
    "        #Save the results\n",
    "        response_json = response.json()\n",
    "        data_list += response_json[\"results\"]\n",
    "        next_page = response_json[\"next\"]\n",
    "        \n",
    "        #Print a status every 5 pages\n",
    "        if len(data_list) % 10000 == 0:\n",
    "            print(\"Downloaded {} records.\".format(len(data_list)))\n",
    "        time.sleep(1)\n",
    "\n",
    "    # Convert json list to a pandas dataframe\n",
    "    df = pd.json_normalize(data_list)\n",
    "\n",
    "    # Confirm that the number of rows in the df match the expected count\n",
    "    print(\"{} of {} total records received.\".format(df.shape[0],response_json[\"count\"]))\n",
    "    \n",
    "    return df"
   ]
  },
  {
   "cell_type": "code",
   "execution_count": 4,
   "id": "f2c404f7",
   "metadata": {
    "scrolled": true
   },
   "outputs": [
    {
     "name": "stdout",
     "output_type": "stream",
     "text": [
      "110 of 110 total records received.\n"
     ]
    },
    {
     "data": {
      "text/html": [
       "<div>\n",
       "<style scoped>\n",
       "    .dataframe tbody tr th:only-of-type {\n",
       "        vertical-align: middle;\n",
       "    }\n",
       "\n",
       "    .dataframe tbody tr th {\n",
       "        vertical-align: top;\n",
       "    }\n",
       "\n",
       "    .dataframe thead th {\n",
       "        text-align: right;\n",
       "    }\n",
       "</style>\n",
       "<table border=\"1\" class=\"dataframe\">\n",
       "  <thead>\n",
       "    <tr style=\"text-align: right;\">\n",
       "      <th></th>\n",
       "      <th>set_num</th>\n",
       "      <th>name</th>\n",
       "      <th>year</th>\n",
       "      <th>theme_id</th>\n",
       "      <th>num_parts</th>\n",
       "      <th>set_img_url</th>\n",
       "      <th>set_url</th>\n",
       "      <th>last_modified_dt</th>\n",
       "    </tr>\n",
       "  </thead>\n",
       "  <tbody>\n",
       "    <tr>\n",
       "      <th>0</th>\n",
       "      <td>01-1</td>\n",
       "      <td>Chain Links</td>\n",
       "      <td>1980</td>\n",
       "      <td>453</td>\n",
       "      <td>25</td>\n",
       "      <td>https://cdn.rebrickable.com/media/sets/01-1/11...</td>\n",
       "      <td>https://rebrickable.com/sets/01-1/chain-links/</td>\n",
       "      <td>2023-03-23T05:54:08.228867Z</td>\n",
       "    </tr>\n",
       "    <tr>\n",
       "      <th>1</th>\n",
       "      <td>02-2</td>\n",
       "      <td>Digger Bucket Assembly</td>\n",
       "      <td>1980</td>\n",
       "      <td>453</td>\n",
       "      <td>3</td>\n",
       "      <td>https://cdn.rebrickable.com/media/sets/02-2/11...</td>\n",
       "      <td>https://rebrickable.com/sets/02-2/digger-bucke...</td>\n",
       "      <td>2023-03-23T08:36:27.960565Z</td>\n",
       "    </tr>\n",
       "    <tr>\n",
       "      <th>2</th>\n",
       "      <td>03-1</td>\n",
       "      <td>Doors and Fences</td>\n",
       "      <td>1980</td>\n",
       "      <td>443</td>\n",
       "      <td>10</td>\n",
       "      <td>https://cdn.rebrickable.com/media/sets/03-1/11...</td>\n",
       "      <td>https://rebrickable.com/sets/03-1/doors-and-fe...</td>\n",
       "      <td>2023-03-23T11:33:32.232557Z</td>\n",
       "    </tr>\n",
       "    <tr>\n",
       "      <th>3</th>\n",
       "      <td>04-1</td>\n",
       "      <td>Propellers and Wheels</td>\n",
       "      <td>1980</td>\n",
       "      <td>443</td>\n",
       "      <td>13</td>\n",
       "      <td>https://cdn.rebrickable.com/media/sets/04-1/11...</td>\n",
       "      <td>https://rebrickable.com/sets/04-1/propellers-a...</td>\n",
       "      <td>2023-03-23T11:37:32.225636Z</td>\n",
       "    </tr>\n",
       "    <tr>\n",
       "      <th>4</th>\n",
       "      <td>05-1</td>\n",
       "      <td>Hinges</td>\n",
       "      <td>1980</td>\n",
       "      <td>443</td>\n",
       "      <td>3</td>\n",
       "      <td>https://cdn.rebrickable.com/media/sets/05-1/11...</td>\n",
       "      <td>https://rebrickable.com/sets/05-1/hinges/</td>\n",
       "      <td>2023-03-23T08:27:14.660648Z</td>\n",
       "    </tr>\n",
       "  </tbody>\n",
       "</table>\n",
       "</div>"
      ],
      "text/plain": [
       "  set_num                    name  year  theme_id  num_parts  \\\n",
       "0    01-1             Chain Links  1980       453         25   \n",
       "1    02-2  Digger Bucket Assembly  1980       453          3   \n",
       "2    03-1        Doors and Fences  1980       443         10   \n",
       "3    04-1   Propellers and Wheels  1980       443         13   \n",
       "4    05-1                  Hinges  1980       443          3   \n",
       "\n",
       "                                         set_img_url  \\\n",
       "0  https://cdn.rebrickable.com/media/sets/01-1/11...   \n",
       "1  https://cdn.rebrickable.com/media/sets/02-2/11...   \n",
       "2  https://cdn.rebrickable.com/media/sets/03-1/11...   \n",
       "3  https://cdn.rebrickable.com/media/sets/04-1/11...   \n",
       "4  https://cdn.rebrickable.com/media/sets/05-1/11...   \n",
       "\n",
       "                                             set_url  \\\n",
       "0     https://rebrickable.com/sets/01-1/chain-links/   \n",
       "1  https://rebrickable.com/sets/02-2/digger-bucke...   \n",
       "2  https://rebrickable.com/sets/03-1/doors-and-fe...   \n",
       "3  https://rebrickable.com/sets/04-1/propellers-a...   \n",
       "4          https://rebrickable.com/sets/05-1/hinges/   \n",
       "\n",
       "              last_modified_dt  \n",
       "0  2023-03-23T05:54:08.228867Z  \n",
       "1  2023-03-23T08:36:27.960565Z  \n",
       "2  2023-03-23T11:33:32.232557Z  \n",
       "3  2023-03-23T11:37:32.225636Z  \n",
       "4  2023-03-23T08:27:14.660648Z  "
      ]
     },
     "execution_count": 4,
     "metadata": {},
     "output_type": "execute_result"
    }
   ],
   "source": [
    "# Test function by getting data for all sets from 1980\n",
    "sets_1980 = get_lego_data(\"https://rebrickable.com/api/v3/lego/sets/\", lego_key, min_year=1980, max_year=1980)\n",
    "sets_1980.head()"
   ]
  },
  {
   "cell_type": "code",
   "execution_count": 5,
   "id": "404952e4",
   "metadata": {},
   "outputs": [],
   "source": [
    "# Save Lego set data to csv\n",
    "sets_1980.to_csv(\"data/sets_1980.csv\", index=False)"
   ]
  },
  {
   "cell_type": "code",
   "execution_count": null,
   "id": "e4323346",
   "metadata": {
    "scrolled": true
   },
   "outputs": [
    {
     "name": "stdout",
     "output_type": "stream",
     "text": [
      "Downloaded 10000 records.\n"
     ]
    }
   ],
   "source": [
    "# Get data for all sets\n",
    "sets = get_lego_data(\"https://rebrickable.com/api/v3/lego/sets/\", lego_key)\n",
    "sets.head()"
   ]
  },
  {
   "cell_type": "code",
   "execution_count": null,
   "id": "4932ea1a",
   "metadata": {},
   "outputs": [],
   "source": [
    "# Save Lego set data to csv\n",
    "sets.to_csv(\"data/sets.csv\", index=False)"
   ]
  },
  {
   "cell_type": "code",
   "execution_count": null,
   "id": "863da711",
   "metadata": {},
   "outputs": [],
   "source": [
    "# Get data for all themes\n",
    "themes = get_lego_data(\"https://rebrickable.com/api/v3/lego/themes/\", lego_key)\n",
    "themes.head()"
   ]
  },
  {
   "cell_type": "code",
   "execution_count": null,
   "id": "1b57d4dc",
   "metadata": {},
   "outputs": [],
   "source": [
    "# Save Lego themes data to csv\n",
    "themes.to_csv(\"data/themes.csv\", index=False)"
   ]
  },
  {
   "cell_type": "code",
   "execution_count": null,
   "id": "ccd7fd6f",
   "metadata": {},
   "outputs": [],
   "source": []
  }
 ],
 "metadata": {
  "kernelspec": {
   "display_name": "py39-analysis",
   "language": "python",
   "name": "py39-analysis"
  },
  "language_info": {
   "codemirror_mode": {
    "name": "ipython",
    "version": 3
   },
   "file_extension": ".py",
   "mimetype": "text/x-python",
   "name": "python",
   "nbconvert_exporter": "python",
   "pygments_lexer": "ipython3",
   "version": "3.9.16"
  }
 },
 "nbformat": 4,
 "nbformat_minor": 5
}
